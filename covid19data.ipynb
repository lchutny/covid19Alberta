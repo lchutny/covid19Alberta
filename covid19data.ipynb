{
 "cells": [
  {
   "cell_type": "code",
   "execution_count": 1,
   "metadata": {},
   "outputs": [],
   "source": [
    "import pandas as pd\n",
    "import numpy as np\n",
    "import sys\n",
    "pd.set_option('display.max_columns',30)\n",
    "import scipy.stats as ss\n",
    "import matplotlib.pyplot as plt\n",
    "import datetime\n",
    "from datetime import datetime\n",
    "from pandas.plotting import register_matplotlib_converters\n",
    "register_matplotlib_converters()\n",
    "from scipy.optimize import curve_fit"
   ]
  },
  {
   "cell_type": "code",
   "execution_count": 2,
   "metadata": {},
   "outputs": [],
   "source": [
    "df = pd.read_csv('covid19daily.csv')\n",
    "df['date'] = pd.to_datetime(df.Date,dayfirst=True)\n",
    "df = df.drop(['Date'],axis=1)\n",
    "#rearrange\n",
    "cols = list(df.columns)\n",
    "cols.insert(0,cols.pop())\n",
    "df = df[cols]"
   ]
  },
  {
   "cell_type": "markdown",
   "metadata": {},
   "source": [
    "# Calculated Columns"
   ]
  },
  {
   "cell_type": "code",
   "execution_count": 3,
   "metadata": {},
   "outputs": [],
   "source": [
    "df['TotalPositive'] = df['NewPositive'].cumsum()"
   ]
  },
  {
   "cell_type": "code",
   "execution_count": 4,
   "metadata": {},
   "outputs": [],
   "source": [
    "df['TotalTests'] = df.NewPositive+df.DailyNegTest"
   ]
  },
  {
   "cell_type": "code",
   "execution_count": 5,
   "metadata": {},
   "outputs": [],
   "source": [
    "# Note My Cumulative number of tests won't match province because there were approx 378 tests carried out prior to March 6 which are not reflected here\n",
    "df['CumPeopleTested']=df['TotalTests'].cumsum()"
   ]
  },
  {
   "cell_type": "code",
   "execution_count": 6,
   "metadata": {},
   "outputs": [],
   "source": [
    "# Alberta Population from https://economicdashboard.alberta.ca/Population\n",
    "totalpop = 4413146"
   ]
  },
  {
   "cell_type": "code",
   "execution_count": 7,
   "metadata": {},
   "outputs": [],
   "source": [
    "df['percentTestsperPop'] = (df.CumPeopleTested)/totalpop*100"
   ]
  },
  {
   "cell_type": "code",
   "execution_count": 8,
   "metadata": {},
   "outputs": [],
   "source": [
    "df['percTestperDayperPop'] = df.TotalTests/totalpop*100"
   ]
  },
  {
   "cell_type": "code",
   "execution_count": 9,
   "metadata": {},
   "outputs": [],
   "source": [
    "df['percHospPerPositiveTest'] = df.Total_Hospitalized/df.TotalPositive*100"
   ]
  },
  {
   "cell_type": "code",
   "execution_count": 10,
   "metadata": {},
   "outputs": [],
   "source": [
    "df['percICUPerPostitiveTest'] = df.Total_ICU/df.TotalPositive*100"
   ]
  },
  {
   "cell_type": "code",
   "execution_count": 11,
   "metadata": {},
   "outputs": [],
   "source": [
    "df['percICUPerHospitalized'] = df.Total_ICU/df.Total_Hospitalized*100"
   ]
  },
  {
   "cell_type": "code",
   "execution_count": 12,
   "metadata": {},
   "outputs": [],
   "source": [
    "# CFR = Case Fatality Rate\n",
    "df['perc_CFR'] = df.Cumulative_Deaths/df.TotalPositive*100"
   ]
  },
  {
   "cell_type": "code",
   "execution_count": 13,
   "metadata": {},
   "outputs": [],
   "source": [
    "df['perc_MortalityRate'] = df.Cumulative_Deaths/totalpop*100"
   ]
  },
  {
   "cell_type": "markdown",
   "metadata": {},
   "source": [
    "# Modeling logarithmic growth"
   ]
  },
  {
   "cell_type": "code",
   "execution_count": 14,
   "metadata": {},
   "outputs": [
    {
     "data": {
      "text/html": [
       "<div>\n",
       "<style scoped>\n",
       "    .dataframe tbody tr th:only-of-type {\n",
       "        vertical-align: middle;\n",
       "    }\n",
       "\n",
       "    .dataframe tbody tr th {\n",
       "        vertical-align: top;\n",
       "    }\n",
       "\n",
       "    .dataframe thead th {\n",
       "        text-align: right;\n",
       "    }\n",
       "</style>\n",
       "<table border=\"1\" class=\"dataframe\">\n",
       "  <thead>\n",
       "    <tr style=\"text-align: right;\">\n",
       "      <th></th>\n",
       "      <th>date</th>\n",
       "      <th>NewPositive</th>\n",
       "      <th>DailyNegTest</th>\n",
       "      <th>Total_Hospitalized</th>\n",
       "      <th>Total_ICU</th>\n",
       "      <th>Cumulative_Deaths</th>\n",
       "      <th>RecoveredToDate</th>\n",
       "      <th>TotalPositive</th>\n",
       "      <th>TotalTests</th>\n",
       "      <th>CumPeopleTested</th>\n",
       "      <th>percentTestsperPop</th>\n",
       "      <th>percTestperDayperPop</th>\n",
       "      <th>percHospPerPositiveTest</th>\n",
       "      <th>percICUPerPostitiveTest</th>\n",
       "      <th>percICUPerHospitalized</th>\n",
       "      <th>perc_CFR</th>\n",
       "      <th>perc_MortalityRate</th>\n",
       "    </tr>\n",
       "  </thead>\n",
       "  <tbody>\n",
       "    <tr>\n",
       "      <td>18</td>\n",
       "      <td>2020-03-24</td>\n",
       "      <td>62</td>\n",
       "      <td>3131</td>\n",
       "      <td>19</td>\n",
       "      <td>7</td>\n",
       "      <td>2</td>\n",
       "      <td>3</td>\n",
       "      <td>400</td>\n",
       "      <td>3193</td>\n",
       "      <td>34224</td>\n",
       "      <td>0.775501</td>\n",
       "      <td>0.072352</td>\n",
       "      <td>4.750000</td>\n",
       "      <td>1.750000</td>\n",
       "      <td>36.842105</td>\n",
       "      <td>0.500000</td>\n",
       "      <td>0.000045</td>\n",
       "    </tr>\n",
       "    <tr>\n",
       "      <td>19</td>\n",
       "      <td>2020-03-25</td>\n",
       "      <td>77</td>\n",
       "      <td>1832</td>\n",
       "      <td>20</td>\n",
       "      <td>8</td>\n",
       "      <td>2</td>\n",
       "      <td>3</td>\n",
       "      <td>477</td>\n",
       "      <td>1909</td>\n",
       "      <td>36133</td>\n",
       "      <td>0.818758</td>\n",
       "      <td>0.043257</td>\n",
       "      <td>4.192872</td>\n",
       "      <td>1.677149</td>\n",
       "      <td>40.000000</td>\n",
       "      <td>0.419287</td>\n",
       "      <td>0.000045</td>\n",
       "    </tr>\n",
       "    <tr>\n",
       "      <td>20</td>\n",
       "      <td>2020-03-26</td>\n",
       "      <td>54</td>\n",
       "      <td>1117</td>\n",
       "      <td>21</td>\n",
       "      <td>10</td>\n",
       "      <td>2</td>\n",
       "      <td>27</td>\n",
       "      <td>531</td>\n",
       "      <td>1171</td>\n",
       "      <td>37304</td>\n",
       "      <td>0.845293</td>\n",
       "      <td>0.026534</td>\n",
       "      <td>3.954802</td>\n",
       "      <td>1.883239</td>\n",
       "      <td>47.619048</td>\n",
       "      <td>0.376648</td>\n",
       "      <td>0.000045</td>\n",
       "    </tr>\n",
       "    <tr>\n",
       "      <td>21</td>\n",
       "      <td>2020-03-27</td>\n",
       "      <td>79</td>\n",
       "      <td>3593</td>\n",
       "      <td>34</td>\n",
       "      <td>11</td>\n",
       "      <td>2</td>\n",
       "      <td>33</td>\n",
       "      <td>610</td>\n",
       "      <td>3672</td>\n",
       "      <td>40976</td>\n",
       "      <td>0.928499</td>\n",
       "      <td>0.083206</td>\n",
       "      <td>5.573770</td>\n",
       "      <td>1.803279</td>\n",
       "      <td>32.352941</td>\n",
       "      <td>0.327869</td>\n",
       "      <td>0.000045</td>\n",
       "    </tr>\n",
       "    <tr>\n",
       "      <td>22</td>\n",
       "      <td>2020-03-28</td>\n",
       "      <td>6</td>\n",
       "      <td>429</td>\n",
       "      <td>38</td>\n",
       "      <td>12</td>\n",
       "      <td>2</td>\n",
       "      <td>53</td>\n",
       "      <td>616</td>\n",
       "      <td>435</td>\n",
       "      <td>41411</td>\n",
       "      <td>0.938356</td>\n",
       "      <td>0.009857</td>\n",
       "      <td>6.168831</td>\n",
       "      <td>1.948052</td>\n",
       "      <td>31.578947</td>\n",
       "      <td>0.324675</td>\n",
       "      <td>0.000045</td>\n",
       "    </tr>\n",
       "  </tbody>\n",
       "</table>\n",
       "</div>"
      ],
      "text/plain": [
       "         date  NewPositive  DailyNegTest  Total_Hospitalized  Total_ICU  \\\n",
       "18 2020-03-24           62          3131                  19          7   \n",
       "19 2020-03-25           77          1832                  20          8   \n",
       "20 2020-03-26           54          1117                  21         10   \n",
       "21 2020-03-27           79          3593                  34         11   \n",
       "22 2020-03-28            6           429                  38         12   \n",
       "\n",
       "    Cumulative_Deaths  RecoveredToDate  TotalPositive  TotalTests  \\\n",
       "18                  2                3            400        3193   \n",
       "19                  2                3            477        1909   \n",
       "20                  2               27            531        1171   \n",
       "21                  2               33            610        3672   \n",
       "22                  2               53            616         435   \n",
       "\n",
       "    CumPeopleTested  percentTestsperPop  percTestperDayperPop  \\\n",
       "18            34224            0.775501              0.072352   \n",
       "19            36133            0.818758              0.043257   \n",
       "20            37304            0.845293              0.026534   \n",
       "21            40976            0.928499              0.083206   \n",
       "22            41411            0.938356              0.009857   \n",
       "\n",
       "    percHospPerPositiveTest  percICUPerPostitiveTest  percICUPerHospitalized  \\\n",
       "18                 4.750000                 1.750000               36.842105   \n",
       "19                 4.192872                 1.677149               40.000000   \n",
       "20                 3.954802                 1.883239               47.619048   \n",
       "21                 5.573770                 1.803279               32.352941   \n",
       "22                 6.168831                 1.948052               31.578947   \n",
       "\n",
       "    perc_CFR  perc_MortalityRate  \n",
       "18  0.500000            0.000045  \n",
       "19  0.419287            0.000045  \n",
       "20  0.376648            0.000045  \n",
       "21  0.327869            0.000045  \n",
       "22  0.324675            0.000045  "
      ]
     },
     "execution_count": 14,
     "metadata": {},
     "output_type": "execute_result"
    }
   ],
   "source": [
    "df.tail()"
   ]
  },
  {
   "cell_type": "code",
   "execution_count": 15,
   "metadata": {},
   "outputs": [
    {
     "data": {
      "text/html": [
       "<div>\n",
       "<style scoped>\n",
       "    .dataframe tbody tr th:only-of-type {\n",
       "        vertical-align: middle;\n",
       "    }\n",
       "\n",
       "    .dataframe tbody tr th {\n",
       "        vertical-align: top;\n",
       "    }\n",
       "\n",
       "    .dataframe thead th {\n",
       "        text-align: right;\n",
       "    }\n",
       "</style>\n",
       "<table border=\"1\" class=\"dataframe\">\n",
       "  <thead>\n",
       "    <tr style=\"text-align: right;\">\n",
       "      <th></th>\n",
       "      <th>date</th>\n",
       "      <th>NewPositive</th>\n",
       "      <th>DailyNegTest</th>\n",
       "      <th>Total_Hospitalized</th>\n",
       "      <th>Total_ICU</th>\n",
       "      <th>Cumulative_Deaths</th>\n",
       "      <th>RecoveredToDate</th>\n",
       "      <th>TotalPositive</th>\n",
       "      <th>TotalTests</th>\n",
       "      <th>CumPeopleTested</th>\n",
       "      <th>percentTestsperPop</th>\n",
       "      <th>percTestperDayperPop</th>\n",
       "      <th>percHospPerPositiveTest</th>\n",
       "      <th>percICUPerPostitiveTest</th>\n",
       "      <th>percICUPerHospitalized</th>\n",
       "      <th>perc_CFR</th>\n",
       "      <th>perc_MortalityRate</th>\n",
       "    </tr>\n",
       "  </thead>\n",
       "  <tbody>\n",
       "    <tr>\n",
       "      <td>0</td>\n",
       "      <td>2020-03-06</td>\n",
       "      <td>1</td>\n",
       "      <td>61</td>\n",
       "      <td>0</td>\n",
       "      <td>0</td>\n",
       "      <td>0</td>\n",
       "      <td>0</td>\n",
       "      <td>1</td>\n",
       "      <td>62</td>\n",
       "      <td>62</td>\n",
       "      <td>0.001405</td>\n",
       "      <td>0.001405</td>\n",
       "      <td>0.000000</td>\n",
       "      <td>0.0</td>\n",
       "      <td>NaN</td>\n",
       "      <td>0.0</td>\n",
       "      <td>0.0</td>\n",
       "    </tr>\n",
       "    <tr>\n",
       "      <td>1</td>\n",
       "      <td>2020-03-07</td>\n",
       "      <td>1</td>\n",
       "      <td>275</td>\n",
       "      <td>0</td>\n",
       "      <td>0</td>\n",
       "      <td>0</td>\n",
       "      <td>0</td>\n",
       "      <td>2</td>\n",
       "      <td>276</td>\n",
       "      <td>338</td>\n",
       "      <td>0.007659</td>\n",
       "      <td>0.006254</td>\n",
       "      <td>0.000000</td>\n",
       "      <td>0.0</td>\n",
       "      <td>NaN</td>\n",
       "      <td>0.0</td>\n",
       "      <td>0.0</td>\n",
       "    </tr>\n",
       "    <tr>\n",
       "      <td>2</td>\n",
       "      <td>2020-03-08</td>\n",
       "      <td>3</td>\n",
       "      <td>440</td>\n",
       "      <td>0</td>\n",
       "      <td>0</td>\n",
       "      <td>0</td>\n",
       "      <td>0</td>\n",
       "      <td>5</td>\n",
       "      <td>443</td>\n",
       "      <td>781</td>\n",
       "      <td>0.017697</td>\n",
       "      <td>0.010038</td>\n",
       "      <td>0.000000</td>\n",
       "      <td>0.0</td>\n",
       "      <td>NaN</td>\n",
       "      <td>0.0</td>\n",
       "      <td>0.0</td>\n",
       "    </tr>\n",
       "    <tr>\n",
       "      <td>3</td>\n",
       "      <td>2020-03-09</td>\n",
       "      <td>1</td>\n",
       "      <td>718</td>\n",
       "      <td>0</td>\n",
       "      <td>0</td>\n",
       "      <td>0</td>\n",
       "      <td>0</td>\n",
       "      <td>6</td>\n",
       "      <td>719</td>\n",
       "      <td>1500</td>\n",
       "      <td>0.033989</td>\n",
       "      <td>0.016292</td>\n",
       "      <td>0.000000</td>\n",
       "      <td>0.0</td>\n",
       "      <td>NaN</td>\n",
       "      <td>0.0</td>\n",
       "      <td>0.0</td>\n",
       "    </tr>\n",
       "    <tr>\n",
       "      <td>4</td>\n",
       "      <td>2020-03-10</td>\n",
       "      <td>6</td>\n",
       "      <td>968</td>\n",
       "      <td>1</td>\n",
       "      <td>0</td>\n",
       "      <td>0</td>\n",
       "      <td>0</td>\n",
       "      <td>12</td>\n",
       "      <td>974</td>\n",
       "      <td>2474</td>\n",
       "      <td>0.056060</td>\n",
       "      <td>0.022070</td>\n",
       "      <td>8.333333</td>\n",
       "      <td>0.0</td>\n",
       "      <td>0.0</td>\n",
       "      <td>0.0</td>\n",
       "      <td>0.0</td>\n",
       "    </tr>\n",
       "  </tbody>\n",
       "</table>\n",
       "</div>"
      ],
      "text/plain": [
       "        date  NewPositive  DailyNegTest  Total_Hospitalized  Total_ICU  \\\n",
       "0 2020-03-06            1            61                   0          0   \n",
       "1 2020-03-07            1           275                   0          0   \n",
       "2 2020-03-08            3           440                   0          0   \n",
       "3 2020-03-09            1           718                   0          0   \n",
       "4 2020-03-10            6           968                   1          0   \n",
       "\n",
       "   Cumulative_Deaths  RecoveredToDate  TotalPositive  TotalTests  \\\n",
       "0                  0                0              1          62   \n",
       "1                  0                0              2         276   \n",
       "2                  0                0              5         443   \n",
       "3                  0                0              6         719   \n",
       "4                  0                0             12         974   \n",
       "\n",
       "   CumPeopleTested  percentTestsperPop  percTestperDayperPop  \\\n",
       "0               62            0.001405              0.001405   \n",
       "1              338            0.007659              0.006254   \n",
       "2              781            0.017697              0.010038   \n",
       "3             1500            0.033989              0.016292   \n",
       "4             2474            0.056060              0.022070   \n",
       "\n",
       "   percHospPerPositiveTest  percICUPerPostitiveTest  percICUPerHospitalized  \\\n",
       "0                 0.000000                      0.0                     NaN   \n",
       "1                 0.000000                      0.0                     NaN   \n",
       "2                 0.000000                      0.0                     NaN   \n",
       "3                 0.000000                      0.0                     NaN   \n",
       "4                 8.333333                      0.0                     0.0   \n",
       "\n",
       "   perc_CFR  perc_MortalityRate  \n",
       "0       0.0                 0.0  \n",
       "1       0.0                 0.0  \n",
       "2       0.0                 0.0  \n",
       "3       0.0                 0.0  \n",
       "4       0.0                 0.0  "
      ]
     },
     "execution_count": 15,
     "metadata": {},
     "output_type": "execute_result"
    }
   ],
   "source": [
    "df.head()"
   ]
  },
  {
   "cell_type": "markdown",
   "metadata": {},
   "source": [
    "# Plots"
   ]
  },
  {
   "cell_type": "markdown",
   "metadata": {},
   "source": [
    "## Fit for log/log plot"
   ]
  },
  {
   "cell_type": "code",
   "execution_count": 16,
   "metadata": {},
   "outputs": [],
   "source": [
    "def llfunc(x,a,b):\n",
    "    return 10**(a*np.log10(x)+b)"
   ]
  },
  {
   "cell_type": "code",
   "execution_count": 17,
   "metadata": {},
   "outputs": [
    {
     "data": {
      "text/plain": [
       "array([0.51354799, 0.35172403])"
      ]
     },
     "execution_count": 17,
     "metadata": {},
     "output_type": "execute_result"
    }
   ],
   "source": [
    "# Fit whole range of data\n",
    "popt,pcov = curve_fit(llfunc,df.TotalPositive,df.NewPositive)\n",
    "popt"
   ]
  },
  {
   "cell_type": "code",
   "execution_count": 26,
   "metadata": {},
   "outputs": [
    {
     "data": {
      "text/plain": [
       "array([0.67368738, 0.00841272])"
      ]
     },
     "execution_count": 26,
     "metadata": {},
     "output_type": "execute_result"
    }
   ],
   "source": [
    "# Fit all x except last few points (if indeed they are 'dropping off')\n",
    "x2 = df.TotalPositive[df.TotalPositive<600]\n",
    "y2 = df.NewPositive[df.TotalPositive<600]\n",
    "p2opt,p2cov = curve_fit(llfunc,x2,y2)\n",
    "p2opt"
   ]
  },
  {
   "cell_type": "markdown",
   "metadata": {},
   "source": [
    "## Calculate Transmission Rate"
   ]
  },
  {
   "cell_type": "code",
   "execution_count": 27,
   "metadata": {},
   "outputs": [],
   "source": [
    "def transmission_rate(x,a,b):\n",
    "    return 10**(a*x+b)\n",
    "# Early\n",
    "earlyy = df.TotalPositive[df.date<'2020-03-13']\n",
    "earlyx = df.index[df.date<'2020-03-13']\n",
    "ropt,rcov = curve_fit(transmission_rate,earlyx,earlyy)"
   ]
  },
  {
   "cell_type": "code",
   "execution_count": 28,
   "metadata": {},
   "outputs": [],
   "source": [
    "# Late\n",
    "latey = df.TotalPositive[df.date>'2020-03-13']\n",
    "latex = df.index[df.date>'2020-03-13']\n",
    "ropt2,rcov2 = curve_fit(transmission_rate,latex,latey)"
   ]
  },
  {
   "cell_type": "markdown",
   "metadata": {},
   "source": [
    "## Calculate % Hospitalized and % ICU"
   ]
  },
  {
   "cell_type": "code",
   "execution_count": 29,
   "metadata": {},
   "outputs": [],
   "source": [
    "hosp = df.percHospPerPositiveTest[df.date>'2020-03-09'].mean()\n",
    "icu = df.percICUPerPostitiveTest[df.date>'2020-03-15'].mean()"
   ]
  },
  {
   "cell_type": "markdown",
   "metadata": {},
   "source": [
    "## Create Plots"
   ]
  },
  {
   "cell_type": "code",
   "execution_count": 30,
   "metadata": {},
   "outputs": [
    {
     "data": {
      "image/png": "[encoded data removed]",
      "text/plain": [
       "<Figure size 1440x1080 with 5 Axes>"
      ]
     },
     "metadata": {
      "needs_background": "light"
     },
     "output_type": "display_data"
    }
   ],
   "source": [
    "# Get last date in dataframe for graph header\n",
    "datadate = df.date.iat[-1].strftime(\"%d-%b-%Y\")\n",
    "\n",
    "def two_scales(ax1,xdata,data1,data2,c1,f1,l1,c2,f2,l2,y1text,y2text):\n",
    "    ax2 = ax1.twinx()\n",
    "    ax1.plot(xdata,data1,color=c1,marker=f1,linestyle=l1)\n",
    "    ax1.set_ylabel(y1text)\n",
    "    ax2.plot(xdata,data2,color=c2,marker=f2,linestyle=l2)\n",
    "    ax2.set_ylabel(y2text)\n",
    "    return ax1,ax2\n",
    "\n",
    "fig, ((ax1,ax2),(ax3,ax4))= plt.subplots(2,2,figsize=(20,15))\n",
    "\n",
    "ax1, ax1a = two_scales(ax1,df.date,df.TotalPositive,df.Total_Hospitalized,\n",
    "                       'blue','o','-','red','x','-',\n",
    "                       'Positive Tests per day','Current Hospitalizations')\n",
    "ax1.set_title(f\"Positive Tests per Day and Current Hospitalizations Alberta as of {datadate}\")\n",
    "ax1.grid(True)\n",
    "\n",
    "def color_y_axis(ax, color):\n",
    "    \"\"\"Color your axes.\"\"\"\n",
    "    for t in ax.get_yticklabels():\n",
    "        t.set_color(color)\n",
    "\n",
    "color_y_axis(ax1, 'b')\n",
    "color_y_axis(ax1a, 'r')\n",
    "ax1a.set_ylim([0,50])\n",
    "ax1.set_ylim([0,700])\n",
    "\n",
    "ax2.plot(df.index,df.TotalPositive,'-ob')\n",
    "ax2.set_yscale(\"log\")\n",
    "ax2.set_title(f\"Positive Tests/day and Transmission Rate \\n starting day 1, March 6, Alberta as of {datadate}\")\n",
    "ax2.grid(True)\n",
    "ax2.plot(df.index,transmission_rate(df.index,*ropt),'r--',label=f\"Rate={10**(ropt[0]):.3f}\")\n",
    "ax2.plot(df.index,transmission_rate(df.index,*ropt2),'g--',label=f\"Rate={10**(ropt2[0]):.3f}\")\n",
    "ax2.set_ylabel(\"Log of Positive Tests per day\")\n",
    "ax2.legend()\n",
    "\n",
    "ax3.plot(df.date,df.percHospPerPositiveTest,'-ob')\n",
    "ax3.set_title(f\"Percent Positive Tests ending up in hospitalization, Alberta as of {datadate}\")\n",
    "ax3.set_ylabel(\"%\")\n",
    "ax3.grid(True)\n",
    "\n",
    "ax4.plot(df.TotalPositive,df.NewPositive,'ob',label='observed')\n",
    "ax4.set_title(f\"New vs Total Cases Log Log, Alberta as of {datadate}\")\n",
    "ax4.set_ylabel(\"New Confirmed Cases\")\n",
    "ax4.set_xlabel(\"Total Confirmed Cases\")\n",
    "ax4.grid(True)\n",
    "ax4.set_yscale(\"log\")\n",
    "ax4.set_xscale(\"log\")\n",
    "#ax4.plot(df.TotalPositive,llfunc(df.TotalPositive,*popt),'g--',label='Fit All')\n",
    "ax4.plot(df.TotalPositive,llfunc(df.TotalPositive,*p2opt),'r-',label='Fit Early')\n",
    "ax4.legend()\n",
    "\n",
    "\n",
    "plt.show()"
   ]
  },
  {
   "cell_type": "markdown",
   "metadata": {},
   "source": [
    "# Predict ICU Beds and Hosptalizations at Day X"
   ]
  },
  {
   "cell_type": "code",
   "execution_count": 31,
   "metadata": {},
   "outputs": [],
   "source": [
    "#Input desired Forecast Date:\n",
    "when = '2020-04-08'"
   ]
  },
  {
   "cell_type": "code",
   "execution_count": 32,
   "metadata": {},
   "outputs": [
    {
     "name": "stdout",
     "output_type": "stream",
     "text": [
      "Forecast date: 2020-04-08, current date: 2020-03-28\n",
      "Using transmission rate of 1.166\n",
      "Yields 3730 positive tests on that day, with 200 people in hospital and 76 people in ICU\n",
      "Mean Hospitalization/positve test 5.37% and mean ICU/Positive Test: 2.05%\n",
      "Deaths to current date (not forecast): 2\n"
     ]
    }
   ],
   "source": [
    "# Get Current date as last date of data in dataframe\n",
    "current = df.date.iloc[-1].date()\n",
    "#Convert Date\n",
    "future = datetime.strptime(when,\"%Y-%m-%d\")\n",
    "elapsed = (future - df.date.iloc[0]).days\n",
    "# Calculate future positive tests using later transmission rate and hospitalizations and ICU admissions as a function of the positive tests\n",
    "pos_tests_future = transmission_rate(elapsed,*ropt2)\n",
    "hosp_future = hosp/100*pos_tests_future\n",
    "icu_future = icu/100*pos_tests_future\n",
    "\n",
    "# Print results\n",
    "print(f\"Forecast date: {when}, current date: {current}\\nUsing transmission rate of {(10**ropt2[0]):.3f}\")\n",
    "print(f\"Yields {pos_tests_future:.0f} positive tests on that day, with {hosp_future:.0f} people in hospital and {icu_future:.0f} people in ICU\")\n",
    "print(f\"Mean Hospitalization/positve test {hosp:.2f}% and mean ICU/Positive Test: {icu:.2f}%\")\n",
    "print(f\"Deaths to current date (not forecast): {df.Cumulative_Deaths.iloc[-1]}\")"
   ]
  }
 ],
 "metadata": {
  "kernelspec": {
   "display_name": "Python 3",
   "language": "python",
   "name": "python3"
  },
  "language_info": {
   "codemirror_mode": {
    "name": "ipython",
    "version": 3
   },
   "file_extension": ".py",
   "mimetype": "text/x-python",
   "name": "python",
   "nbconvert_exporter": "python",
   "pygments_lexer": "ipython3",
   "version": "3.7.4"
  }
 },
 "nbformat": 4,
 "nbformat_minor": 4
}
